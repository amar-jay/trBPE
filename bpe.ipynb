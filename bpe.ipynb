{
 "cells": [
  {
   "cell_type": "code",
   "execution_count": 3,
   "id": "62ea0edf-8adb-44e6-b446-d96406f75817",
   "metadata": {},
   "outputs": [],
   "source": [
    "from trBPE.core import visualise_tokens, turkish_word_splitter, turkish_split"
   ]
  },
  {
   "cell_type": "code",
   "execution_count": 9,
   "id": "acfc2702-c3eb-4065-bf67-78f3f2f0ed3a",
   "metadata": {},
   "outputs": [
    {
     "name": "stdout",
     "output_type": "stream",
     "text": [
      "\u001b[48;5;167mThe\u001b[48;5;77mquick\u001b[48;5;179mbrown\u001b[48;5;134mfox\u001b[48;5;185mjumped\u001b[48;5;179mover\u001b[48;5;68mthe\u001b[48;5;179mlazy\u001b[48;5;68mdog\u001b[0m\n"
     ]
    }
   ],
   "source": [
    "def _visualize(word):\n",
    "    return visualise_tokens(list(c.encode('utf-8') for c in word))\n",
    "_visualize(\"The quick brown fox jumped over the lazy dog\".split())"
   ]
  },
  {
   "cell_type": "code",
   "execution_count": 12,
   "id": "b9db0414-43cb-45af-b9c7-77aac017f0a9",
   "metadata": {},
   "outputs": [
    {
     "name": "stdout",
     "output_type": "stream",
     "text": [
      "\u001b[48;5;167mon\u001b[48;5;185mların\u001b[48;5;167mda\u001b[48;5;185mki\u001b[48;5;80mler\u001b[48;5;167mden\u001b[0m\n",
      "\u001b[48;5;167msokak\u001b[48;5;68mlar\u001b[48;5;179mda\u001b[0m\n"
     ]
    }
   ],
   "source": [
    "_visualize(turkish_word_splitter(\"onlarındakilerden\"))\n",
    "_visualize(turkish_word_splitter(\"sokaklarda\"))"
   ]
  },
  {
   "cell_type": "code",
   "execution_count": 13,
   "id": "be86acd1-9caf-42c8-805f-951f361c15b3",
   "metadata": {},
   "outputs": [
    {
     "name": "stdout",
     "output_type": "stream",
     "text": [
      "--------------------- TURKISH WORD TOKENS ---------------------\n",
      "Bugün hava çok güzel. Gökyüzünde mavi bulutlar uçuşuyor. \n",
      "      Güneş yavaşça batıyor. Sokaklarda insanlar dolaşıyor, kuşlar ötüyor. \n",
      "\n",
      "  Evlerimizde çay demliyor, misafirlerimiz geliyor. Çocuklar parkta oyun oynuyor, neşeyle koşuyorlar. Gece olunca yıldızlar parlıyor, ay ışığı her yeri aydınlatıyor. \n",
      "\n",
      "Herkes mutlu, huzurlu ve umut dolu. Türkçe dilimiz zengin bir dildir, yapıları karmaşıktır ve güzeldir.\n",
      "\n"
     ]
    }
   ],
   "source": [
    "print(\"-\"*21, \"TURKISH WORD TOKENS\", \"-\"*21)\n",
    "with open(\"tr_sample.txt\", \"r\") as f:\n",
    "    w = f.read()\n",
    "    print(w)"
   ]
  },
  {
   "cell_type": "code",
   "execution_count": 14,
   "id": "11c0b3ce-ee1b-4aa6-b141-1909b2b596eb",
   "metadata": {},
   "outputs": [
    {
     "name": "stdout",
     "output_type": "stream",
     "text": [
      "['Bugün', ' hava', ' çok', ' güzel', '.', ' Gökyüz', 'ün', 'de', ' mavi', ' bulut', 'lar', ' uçuş', 'u', 'yor', '.', ' ', '\\n', '     ', ' Güneş', ' yavaşça', ' bat', 'ı', 'yor', '.', ' Sokak', 'lar', 'da', ' insanlar', ' dolaşıyor', ',', ' kuşlar', ' öt', 'ü', 'yor', '.', ' ', '\\n', '\\n', ' ', ' Ev', 'lerimiz', 'de', ' çay', ' ', 'd', 'e', 'm', 'l', 'i', 'yor', ',', ' misafir', 'lerimiz', ' geliyor', '.', ' Çocuklar', ' park', 'ta', ' oyun', ' oynuyor', ',', ' ', 'n', 'e', 'ş', 'e', 'y', 'l', 'e', ' koş', 'u', 'yor', 'lar', '.', ' Gece', ' olunca', ' yıldızlar', ' ', 'p', 'a', 'r', 'l', 'ı', 'yor', ',', ' ay', ' ışığı', ' her', ' yeri', ' aydınlat', 'ı', 'yor', '.', ' ', '\\n', '\\n', 'Herkes', ' mutlu', ',', ' huzurlu', ' ve', ' umut', ' dolu', '.', ' Türkçe', ' ', 'd', 'i', 'l', 'i', 'm', 'i', 'z', ' zengin', ' bir', ' dil', 'dir', ',', ' yapıları', ' ', 'k', 'a', 'r', 'm', 'a', 'ş', 'ı', 'k', 't', 'ı', 'r', ' ve', ' güzeldir', '.\\n']\n"
     ]
    }
   ],
   "source": [
    "words = turkish_split(w)\n",
    "print(words)"
   ]
  },
  {
   "cell_type": "code",
   "execution_count": 17,
   "id": "ee569207-9571-478f-89b2-99c4f6920813",
   "metadata": {},
   "outputs": [
    {
     "name": "stdout",
     "output_type": "stream",
     "text": [
      "--------------------- TURKISH TOKENS ---------------------\n",
      "\u001b[48;5;167mBugün\u001b[48;5;68m hava\u001b[48;5;77m çok\u001b[48;5;167m güzel\u001b[48;5;134m.\u001b[48;5;167m Gökyüz\u001b[48;5;179mün\u001b[48;5;185mde\u001b[48;5;80m mavi\u001b[48;5;185m bulut\u001b[48;5;179mlar\u001b[48;5;80m uçuş\u001b[48;5;185mu\u001b[48;5;77myor\u001b[48;5;134m.\u001b[48;5;167m \u001b[48;5;179m\n",
      "\u001b[48;5;185m     \u001b[48;5;167m Güneş\u001b[48;5;134m yavaşça\u001b[48;5;167m bat\u001b[48;5;80mı\u001b[48;5;68myor\u001b[48;5;179m.\u001b[48;5;185m Sokak\u001b[48;5;179mlar\u001b[48;5;80mda\u001b[48;5;134m insanlar\u001b[48;5;179m dolaşıyor\u001b[48;5;80m,\u001b[48;5;68m kuşlar\u001b[48;5;134m öt\u001b[48;5;179mü\u001b[48;5;185myor\u001b[48;5;68m.\u001b[48;5;134m \u001b[48;5;167m\n",
      "\u001b[48;5;179m\n",
      "\u001b[48;5;185m \u001b[48;5;77m Ev\u001b[48;5;134mlerimiz\u001b[48;5;167mde\u001b[48;5;179m çay\u001b[48;5;68m \u001b[48;5;134md\u001b[48;5;167me\u001b[48;5;179mm\u001b[48;5;185ml\u001b[48;5;77mi\u001b[48;5;80myor\u001b[48;5;167m,\u001b[48;5;179m misafir\u001b[48;5;185mlerimiz\u001b[48;5;77m geliyor\u001b[48;5;80m.\u001b[48;5;68m Çocuklar\u001b[48;5;134m park\u001b[48;5;80mta\u001b[48;5;134m oyun\u001b[48;5;80m oynuyor\u001b[48;5;68m,\u001b[48;5;134m \u001b[48;5;167mn\u001b[48;5;179me\u001b[48;5;185mş\u001b[48;5;77me\u001b[48;5;80my\u001b[48;5;68ml\u001b[48;5;134me\u001b[48;5;167m koş\u001b[48;5;80mu\u001b[48;5;68myor\u001b[48;5;179mlar\u001b[48;5;80m.\u001b[48;5;68m Gece\u001b[48;5;77m olunca\u001b[48;5;80m yıldızlar\u001b[48;5;134m \u001b[48;5;167mp\u001b[48;5;179ma\u001b[48;5;185mr\u001b[48;5;77ml\u001b[48;5;80mı\u001b[48;5;68myor\u001b[48;5;179m,\u001b[48;5;185m ay\u001b[48;5;68m ışığı\u001b[48;5;80m her\u001b[48;5;179m yeri\u001b[48;5;134m aydınlat\u001b[48;5;179mı\u001b[48;5;185myor\u001b[48;5;68m.\u001b[48;5;134m \u001b[48;5;167m\n",
      "\u001b[48;5;179m\n",
      "\u001b[48;5;185mHerkes\u001b[48;5;179m mutlu\u001b[48;5;167m,\u001b[48;5;179m huzurlu\u001b[48;5;185m ve\u001b[48;5;68m umut\u001b[48;5;77m dolu\u001b[48;5;179m.\u001b[48;5;185m Türkçe\u001b[48;5;77m \u001b[48;5;80md\u001b[48;5;68mi\u001b[48;5;134ml\u001b[48;5;167mi\u001b[48;5;179mm\u001b[48;5;185mi\u001b[48;5;77mz\u001b[48;5;80m zengin\u001b[48;5;77m bir\u001b[48;5;167m dil\u001b[48;5;80mdir\u001b[48;5;167m,\u001b[48;5;179m yapıları\u001b[48;5;77m \u001b[48;5;80mk\u001b[48;5;68ma\u001b[48;5;134mr\u001b[48;5;167mm\u001b[48;5;179ma\u001b[48;5;185mş\u001b[48;5;77mı\u001b[48;5;80mk\u001b[48;5;68mt\u001b[48;5;134mı\u001b[48;5;167mr\u001b[48;5;179m ve\u001b[48;5;80m güzeldir\u001b[48;5;134m.\n",
      "\u001b[0m\n"
     ]
    }
   ],
   "source": [
    "print(\"-\"*21, \"TURKISH TOKENS\", \"-\"*21)\n",
    "_visualize(words)"
   ]
  },
  {
   "cell_type": "code",
   "execution_count": 21,
   "id": "6d21d5d2-d6eb-4ab4-ac92-1c413678b892",
   "metadata": {},
   "outputs": [
    {
     "name": "stdout",
     "output_type": "stream",
     "text": [
      "--------\n",
      "['M', 'i', 'n', 'i', 'c', 'i', 'k', ' kuşlar', ' minar', 'e', 'de', ' ', 'ö', 't', 'e', 'r', 'ler', ',', ' minar', 'e', 'de', ' ', 'ö', 't', 'e', 'r', 'l', 'e', 'r', 's', 'e', ' minar', 'e', 'de', ' niçin', ' ', 'ö', 't', 'e', 'r', 'ler', '?']\n",
      "--------\n",
      "\u001b[48;5;167mM\u001b[48;5;179mi\u001b[48;5;185mn\u001b[48;5;77mi\u001b[48;5;80mc\u001b[48;5;68mi\u001b[48;5;134mk\u001b[48;5;167m kuşlar\u001b[48;5;179m minar\u001b[48;5;134me\u001b[48;5;167mde\u001b[48;5;185m \u001b[48;5;77mö\u001b[48;5;80mt\u001b[48;5;68me\u001b[48;5;134mr\u001b[48;5;167mler\u001b[48;5;77m,\u001b[48;5;80m minar\u001b[48;5;77me\u001b[48;5;80mde\u001b[48;5;134m \u001b[48;5;167mö\u001b[48;5;179mt\u001b[48;5;185me\u001b[48;5;77mr\u001b[48;5;80ml\u001b[48;5;68me\u001b[48;5;134mr\u001b[48;5;167ms\u001b[48;5;179me\u001b[48;5;185m minar\u001b[48;5;179me\u001b[48;5;185mde\u001b[48;5;80m niçin\u001b[48;5;77m \u001b[48;5;80mö\u001b[48;5;68mt\u001b[48;5;134me\u001b[48;5;167mr\u001b[48;5;179mler\u001b[48;5;80m?\u001b[0m\n"
     ]
    }
   ],
   "source": [
    "s = turkish_split(\"Minicik kuşlar minarede öterler, minarede öterlerse minarede niçin öterler?\")\n",
    "print(\"-\"*8)\n",
    "print(s)\n",
    "print(\"-\"*8)\n",
    "_visualize(s)"
   ]
  },
  {
   "cell_type": "code",
   "execution_count": 20,
   "id": "4cd87272-5fd9-4348-9980-5b258a0bc72b",
   "metadata": {},
   "outputs": [
    {
     "name": "stdout",
     "output_type": "stream",
     "text": [
      "--------\n",
      "['Bir', ' ', 'b', 'e', 'r', 'b', 'e', 'r', ' bir', ' ', 'b', 'e', 'r', 'b', 'e', 'r', 'e', ' gel', ' beraber', ' bir', ' ', 'b', 'e', 'r', 'b', 'e', 'r', ' dükkanı', ' ', 'a', 'ç', 'a', 'l', 'ım', ' demiş']\n",
      "--------\n",
      "\u001b[48;5;167mBir\u001b[48;5;77m \u001b[48;5;80mb\u001b[48;5;68me\u001b[48;5;134mr\u001b[48;5;167mb\u001b[48;5;179me\u001b[48;5;185mr\u001b[48;5;77m bir\u001b[48;5;167m \u001b[48;5;179mb\u001b[48;5;185me\u001b[48;5;77mr\u001b[48;5;80mb\u001b[48;5;68me\u001b[48;5;134mr\u001b[48;5;167me\u001b[48;5;179m gel\u001b[48;5;68m beraber\u001b[48;5;134m bir\u001b[48;5;77m \u001b[48;5;80mb\u001b[48;5;68me\u001b[48;5;134mr\u001b[48;5;167mb\u001b[48;5;179me\u001b[48;5;185mr\u001b[48;5;77m dükkanı\u001b[48;5;80m \u001b[48;5;68ma\u001b[48;5;134mç\u001b[48;5;167ma\u001b[48;5;179ml\u001b[48;5;185mım\u001b[48;5;80m demiş\u001b[0m\n"
     ]
    }
   ],
   "source": [
    "s = turkish_split(\"Bir berber bir berbere gel beraber bir berber dükkanı açalım demiş\")\n",
    "print(\"-\"*8)\n",
    "print(s)\n",
    "print(\"-\"*8)\n",
    "_visualize(s)"
   ]
  },
  {
   "cell_type": "code",
   "execution_count": null,
   "id": "c139f6f7-b2eb-4e94-b4ae-435cc09b2dc8",
   "metadata": {},
   "outputs": [],
   "source": [
    "# There seems to be an issue currently in the last two cells. Not every turkish word is contained in the vocab.txt file fetched from BERT2-turkish-cased on hugging face. \n",
    "# So, we will create a train_bpe() so as to train our own vocabs."
   ]
  }
 ],
 "metadata": {
  "kernelspec": {
   "display_name": "Python 3 (ipykernel)",
   "language": "python",
   "name": "python3"
  },
  "language_info": {
   "codemirror_mode": {
    "name": "ipython",
    "version": 3
   },
   "file_extension": ".py",
   "mimetype": "text/x-python",
   "name": "python",
   "nbconvert_exporter": "python",
   "pygments_lexer": "ipython3",
   "version": "3.10.12"
  },
  "widgets": {
   "application/vnd.jupyter.widget-state+json": {
    "state": {},
    "version_major": 2,
    "version_minor": 0
   }
  }
 },
 "nbformat": 4,
 "nbformat_minor": 5
}
